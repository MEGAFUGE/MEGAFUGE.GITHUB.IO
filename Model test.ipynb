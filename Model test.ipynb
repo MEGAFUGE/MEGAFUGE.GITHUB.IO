{
 "cells": [
  {
   "cell_type": "code",
   "execution_count": 4,
   "metadata": {
    "collapsed": true
   },
   "outputs": [],
   "source": [
    "import numpy as np\n",
    "import pandas as pd\n",
    "import matplotlib.pyplot as plt\n",
    "from sklearn.linear_model import Ridge\n",
    "from sklearn.model_selection import cross_val_score\n",
    "from sklearn.ensemble import RandomForestRegressor"
   ]
  },
  {
   "cell_type": "code",
   "execution_count": 5,
   "metadata": {
    "collapsed": true
   },
   "outputs": [],
   "source": [
    "#import data \n",
    "dataset = pd.read_csv(\"C:/Users/FUGE/Desktop/PROJECT/finalml.csv\")"
   ]
  },
  {
   "cell_type": "code",
   "execution_count": 10,
   "metadata": {
    "collapsed": true
   },
   "outputs": [],
   "source": [
    "data = dataset.drop(['Unnamed: 0','patient_id'],axis = 1)"
   ]
  },
  {
   "cell_type": "code",
   "execution_count": 12,
   "metadata": {},
   "outputs": [
    {
     "data": {
      "text/plain": [
       "Index(['totalamt', 'medical_history_1', 'medical_history_2',\n",
       "       'medical_history_3', 'medical_history_4', 'medical_history_5',\n",
       "       'medical_history_6', 'medical_history_7', 'preop_medication_1',\n",
       "       'preop_medication_2', 'preop_medication_3', 'preop_medication_4',\n",
       "       'preop_medication_5', 'preop_medication_6', 'symptom_1', 'symptom_2',\n",
       "       'symptom_3', 'symptom_4', 'symptom_5', 'lab_result_1', 'lab_result_2',\n",
       "       'lab_result_3', 'weight', 'height', 'age', 'stay', 'bmi', 'gender_F',\n",
       "       'gender_M', 'race_Chinese', 'race_Indian', 'race_Malay', 'race_Others',\n",
       "       'resident_status_Foreigner', 'resident_status_PR',\n",
       "       'resident_status_Singaporean'],\n",
       "      dtype='object')"
      ]
     },
     "execution_count": 12,
     "metadata": {},
     "output_type": "execute_result"
    }
   ],
   "source": [
    "data.columns"
   ]
  },
  {
   "cell_type": "code",
   "execution_count": 16,
   "metadata": {
    "collapsed": true
   },
   "outputs": [],
   "source": [
    "colmean = data.loc[:,['lab_result_1', 'lab_result_2',\n",
    "       'lab_result_3', 'weight', 'height', 'age', 'stay', 'bmi']].mean()\n",
    "colstd = data.loc[:,['lab_result_1', 'lab_result_2',\n",
    "       'lab_result_3', 'weight', 'height', 'age', 'stay', 'bmi']].std()"
   ]
  },
  {
   "cell_type": "code",
   "execution_count": 18,
   "metadata": {
    "collapsed": true
   },
   "outputs": [],
   "source": [
    "data.loc[:,['lab_result_1', 'lab_result_2',\n",
    "       'lab_result_3', 'weight', 'height', 'age', 'stay', 'bmi']]= (data.loc[:,['lab_result_1', 'lab_result_2',\n",
    "       'lab_result_3', 'weight', 'height', 'age', 'stay', 'bmi']]-colmean)/colstd  #data standardization"
   ]
  },
  {
   "cell_type": "code",
   "execution_count": 20,
   "metadata": {},
   "outputs": [
    {
     "data": {
      "text/plain": [
       "lab_result_1     14.469882\n",
       "lab_result_2     27.431529\n",
       "lab_result_3     99.489706\n",
       "weight           78.748441\n",
       "height          165.084412\n",
       "age              52.039412\n",
       "stay             11.051176\n",
       "bmi              28.958874\n",
       "dtype: float64"
      ]
     },
     "execution_count": 20,
     "metadata": {},
     "output_type": "execute_result"
    }
   ],
   "source": [
    "colmean"
   ]
  },
  {
   "cell_type": "code",
   "execution_count": 21,
   "metadata": {},
   "outputs": [
    {
     "data": {
      "text/plain": [
       "lab_result_1     1.747323\n",
       "lab_result_2     2.463844\n",
       "lab_result_3    15.254453\n",
       "weight          10.975076\n",
       "height           6.973678\n",
       "age             14.698327\n",
       "stay             2.850140\n",
       "bmi              4.140674\n",
       "dtype: float64"
      ]
     },
     "execution_count": 21,
     "metadata": {},
     "output_type": "execute_result"
    }
   ],
   "source": [
    "colstd"
   ]
  },
  {
   "cell_type": "code",
   "execution_count": 25,
   "metadata": {},
   "outputs": [
    {
     "data": {
      "text/html": [
       "<div>\n",
       "<style>\n",
       "    .dataframe thead tr:only-child th {\n",
       "        text-align: right;\n",
       "    }\n",
       "\n",
       "    .dataframe thead th {\n",
       "        text-align: left;\n",
       "    }\n",
       "\n",
       "    .dataframe tbody tr th {\n",
       "        vertical-align: top;\n",
       "    }\n",
       "</style>\n",
       "<table border=\"1\" class=\"dataframe\">\n",
       "  <thead>\n",
       "    <tr style=\"text-align: right;\">\n",
       "      <th></th>\n",
       "      <th>totalamt</th>\n",
       "      <th>medical_history_1</th>\n",
       "      <th>medical_history_2</th>\n",
       "      <th>medical_history_3</th>\n",
       "      <th>medical_history_4</th>\n",
       "      <th>medical_history_5</th>\n",
       "      <th>medical_history_6</th>\n",
       "      <th>medical_history_7</th>\n",
       "      <th>preop_medication_1</th>\n",
       "      <th>preop_medication_2</th>\n",
       "      <th>...</th>\n",
       "      <th>bmi</th>\n",
       "      <th>gender_F</th>\n",
       "      <th>gender_M</th>\n",
       "      <th>race_Chinese</th>\n",
       "      <th>race_Indian</th>\n",
       "      <th>race_Malay</th>\n",
       "      <th>race_Others</th>\n",
       "      <th>resident_status_Foreigner</th>\n",
       "      <th>resident_status_PR</th>\n",
       "      <th>resident_status_Singaporean</th>\n",
       "    </tr>\n",
       "  </thead>\n",
       "  <tbody>\n",
       "    <tr>\n",
       "      <th>0</th>\n",
       "      <td>5190.57</td>\n",
       "      <td>0</td>\n",
       "      <td>0</td>\n",
       "      <td>0</td>\n",
       "      <td>0</td>\n",
       "      <td>0</td>\n",
       "      <td>0</td>\n",
       "      <td>1</td>\n",
       "      <td>0</td>\n",
       "      <td>0</td>\n",
       "      <td>...</td>\n",
       "      <td>-0.268768</td>\n",
       "      <td>1</td>\n",
       "      <td>0</td>\n",
       "      <td>1</td>\n",
       "      <td>0</td>\n",
       "      <td>0</td>\n",
       "      <td>0</td>\n",
       "      <td>0</td>\n",
       "      <td>0</td>\n",
       "      <td>1</td>\n",
       "    </tr>\n",
       "    <tr>\n",
       "      <th>1</th>\n",
       "      <td>22601.50</td>\n",
       "      <td>0</td>\n",
       "      <td>1</td>\n",
       "      <td>0</td>\n",
       "      <td>0</td>\n",
       "      <td>0</td>\n",
       "      <td>1</td>\n",
       "      <td>0</td>\n",
       "      <td>0</td>\n",
       "      <td>0</td>\n",
       "      <td>...</td>\n",
       "      <td>1.411802</td>\n",
       "      <td>1</td>\n",
       "      <td>0</td>\n",
       "      <td>1</td>\n",
       "      <td>0</td>\n",
       "      <td>0</td>\n",
       "      <td>0</td>\n",
       "      <td>0</td>\n",
       "      <td>0</td>\n",
       "      <td>1</td>\n",
       "    </tr>\n",
       "    <tr>\n",
       "      <th>2</th>\n",
       "      <td>17447.18</td>\n",
       "      <td>0</td>\n",
       "      <td>1</td>\n",
       "      <td>0</td>\n",
       "      <td>0</td>\n",
       "      <td>0</td>\n",
       "      <td>0</td>\n",
       "      <td>1</td>\n",
       "      <td>0</td>\n",
       "      <td>0</td>\n",
       "      <td>...</td>\n",
       "      <td>-0.503841</td>\n",
       "      <td>0</td>\n",
       "      <td>1</td>\n",
       "      <td>0</td>\n",
       "      <td>1</td>\n",
       "      <td>0</td>\n",
       "      <td>0</td>\n",
       "      <td>0</td>\n",
       "      <td>0</td>\n",
       "      <td>1</td>\n",
       "    </tr>\n",
       "    <tr>\n",
       "      <th>3</th>\n",
       "      <td>15285.88</td>\n",
       "      <td>1</td>\n",
       "      <td>0</td>\n",
       "      <td>0</td>\n",
       "      <td>0</td>\n",
       "      <td>0</td>\n",
       "      <td>0</td>\n",
       "      <td>0</td>\n",
       "      <td>0</td>\n",
       "      <td>0</td>\n",
       "      <td>...</td>\n",
       "      <td>0.657094</td>\n",
       "      <td>1</td>\n",
       "      <td>0</td>\n",
       "      <td>1</td>\n",
       "      <td>0</td>\n",
       "      <td>0</td>\n",
       "      <td>0</td>\n",
       "      <td>0</td>\n",
       "      <td>0</td>\n",
       "      <td>1</td>\n",
       "    </tr>\n",
       "    <tr>\n",
       "      <th>4</th>\n",
       "      <td>73477.87</td>\n",
       "      <td>0</td>\n",
       "      <td>1</td>\n",
       "      <td>0</td>\n",
       "      <td>0</td>\n",
       "      <td>0</td>\n",
       "      <td>1</td>\n",
       "      <td>0</td>\n",
       "      <td>1</td>\n",
       "      <td>0</td>\n",
       "      <td>...</td>\n",
       "      <td>-0.965979</td>\n",
       "      <td>0</td>\n",
       "      <td>1</td>\n",
       "      <td>0</td>\n",
       "      <td>0</td>\n",
       "      <td>1</td>\n",
       "      <td>0</td>\n",
       "      <td>1</td>\n",
       "      <td>0</td>\n",
       "      <td>0</td>\n",
       "    </tr>\n",
       "  </tbody>\n",
       "</table>\n",
       "<p>5 rows × 36 columns</p>\n",
       "</div>"
      ],
      "text/plain": [
       "   totalamt  medical_history_1  medical_history_2  medical_history_3  \\\n",
       "0   5190.57                  0                  0                  0   \n",
       "1  22601.50                  0                  1                  0   \n",
       "2  17447.18                  0                  1                  0   \n",
       "3  15285.88                  1                  0                  0   \n",
       "4  73477.87                  0                  1                  0   \n",
       "\n",
       "   medical_history_4  medical_history_5  medical_history_6  medical_history_7  \\\n",
       "0                  0                  0                  0                  1   \n",
       "1                  0                  0                  1                  0   \n",
       "2                  0                  0                  0                  1   \n",
       "3                  0                  0                  0                  0   \n",
       "4                  0                  0                  1                  0   \n",
       "\n",
       "   preop_medication_1  preop_medication_2             ...               \\\n",
       "0                   0                   0             ...                \n",
       "1                   0                   0             ...                \n",
       "2                   0                   0             ...                \n",
       "3                   0                   0             ...                \n",
       "4                   1                   0             ...                \n",
       "\n",
       "        bmi  gender_F  gender_M  race_Chinese  race_Indian  race_Malay  \\\n",
       "0 -0.268768         1         0             1            0           0   \n",
       "1  1.411802         1         0             1            0           0   \n",
       "2 -0.503841         0         1             0            1           0   \n",
       "3  0.657094         1         0             1            0           0   \n",
       "4 -0.965979         0         1             0            0           1   \n",
       "\n",
       "   race_Others  resident_status_Foreigner  resident_status_PR  \\\n",
       "0            0                          0                   0   \n",
       "1            0                          0                   0   \n",
       "2            0                          0                   0   \n",
       "3            0                          0                   0   \n",
       "4            0                          1                   0   \n",
       "\n",
       "   resident_status_Singaporean  \n",
       "0                            1  \n",
       "1                            1  \n",
       "2                            1  \n",
       "3                            1  \n",
       "4                            0  \n",
       "\n",
       "[5 rows x 36 columns]"
      ]
     },
     "execution_count": 25,
     "metadata": {},
     "output_type": "execute_result"
    }
   ],
   "source": [
    "data.head()"
   ]
  },
  {
   "cell_type": "code",
   "execution_count": 28,
   "metadata": {
    "collapsed": true
   },
   "outputs": [],
   "source": [
    "X = data.drop(['totalamt'],axis=1)\n",
    "y = data.totalamt"
   ]
  },
  {
   "cell_type": "code",
   "execution_count": 45,
   "metadata": {
    "collapsed": true
   },
   "outputs": [],
   "source": [
    "y = (y - y.mean())/y.std()"
   ]
  },
  {
   "cell_type": "code",
   "execution_count": 46,
   "metadata": {},
   "outputs": [
    {
     "data": {
      "text/plain": [
       "0      -1.641354\n",
       "1       0.073107\n",
       "2      -0.434441\n",
       "3      -0.647265\n",
       "4       5.082923\n",
       "5       0.412839\n",
       "6      -0.035457\n",
       "7       0.556673\n",
       "8       0.369588\n",
       "9      -0.597565\n",
       "10      0.792844\n",
       "11     -0.037333\n",
       "12      0.849464\n",
       "13     -0.760055\n",
       "14     -0.871240\n",
       "15     -1.009777\n",
       "16      0.607334\n",
       "17     -0.786445\n",
       "18      2.299861\n",
       "19     -0.718195\n",
       "20     -0.130801\n",
       "21      0.020263\n",
       "22      2.601285\n",
       "23      0.845355\n",
       "24      0.521682\n",
       "25     -0.783964\n",
       "26      0.016623\n",
       "27      0.583285\n",
       "28      0.717851\n",
       "29     -0.950804\n",
       "          ...   \n",
       "3370   -0.284576\n",
       "3371   -1.047457\n",
       "3372    0.452948\n",
       "3373   -1.132934\n",
       "3374    1.837254\n",
       "3375   -0.667615\n",
       "3376   -0.077776\n",
       "3377    0.215594\n",
       "3378    0.860513\n",
       "3379   -1.364051\n",
       "3380   -0.502034\n",
       "3381    0.892034\n",
       "3382    0.686858\n",
       "3383    0.226587\n",
       "3384    0.457949\n",
       "3385    0.777191\n",
       "3386   -0.600493\n",
       "3387    0.284049\n",
       "3388    0.996995\n",
       "3389   -0.880134\n",
       "3390   -0.722007\n",
       "3391   -0.809978\n",
       "3392    0.616865\n",
       "3393   -0.793685\n",
       "3394   -1.164662\n",
       "3395   -1.692017\n",
       "3396   -0.769057\n",
       "3397    0.806920\n",
       "3398    0.605452\n",
       "3399   -0.080589\n",
       "Name: totalamt, Length: 3400, dtype: float64"
      ]
     },
     "execution_count": 46,
     "metadata": {},
     "output_type": "execute_result"
    }
   ],
   "source": []
  },
  {
   "cell_type": "code",
   "execution_count": 24,
   "metadata": {
    "collapsed": true
   },
   "outputs": [],
   "source": [
    "from sklearn.cross_validation import train_test_split #split for training set and test set"
   ]
  },
  {
   "cell_type": "code",
   "execution_count": 47,
   "metadata": {
    "collapsed": true
   },
   "outputs": [],
   "source": [
    "X_train, X_test, y_train, y_test = train_test_split(X, y, test_size=0.3)"
   ]
  },
  {
   "cell_type": "code",
   "execution_count": 48,
   "metadata": {
    "collapsed": true
   },
   "outputs": [],
   "source": [
    "X_train = np.asarray(X_train)\n",
    "y_train = np.asarray(y_train)"
   ]
  },
  {
   "cell_type": "code",
   "execution_count": 49,
   "metadata": {
    "collapsed": true
   },
   "outputs": [],
   "source": [
    "X_test = np.asarray(X_test)\n",
    "y_test = np.asarray(y_test)"
   ]
  },
  {
   "cell_type": "code",
   "execution_count": 50,
   "metadata": {},
   "outputs": [
    {
     "data": {
      "text/plain": [
       "(1020,)"
      ]
     },
     "execution_count": 50,
     "metadata": {},
     "output_type": "execute_result"
    }
   ],
   "source": [
    "y_test.shape"
   ]
  },
  {
   "cell_type": "code",
   "execution_count": 51,
   "metadata": {},
   "outputs": [
    {
     "name": "stdout",
     "output_type": "stream",
     "text": [
      "1e-06 0.0792196339067\n",
      "1.49097165718e-06 0.0792196339415\n",
      "2.22299648253e-06 0.0792196339934\n",
      "3.31442474947e-06 0.0792196340708\n",
      "4.94171336132e-06 0.0792196341862\n",
      "7.36795455966e-06 0.0792196343582\n",
      "1.09854114199e-05 0.0792196346146\n",
      "1.63789370695e-05 0.079219634997\n",
      "2.44205309455e-05 0.079219635567\n",
      "3.64103194931e-05 0.079219636417\n",
      "5.42867543932e-05 0.0792196376843\n",
      "8.09400121608e-05 0.0792196395738\n",
      "0.000120679264064 0.079219642391\n",
      "0.000179929362329 0.0792196465915\n",
      "0.000268269579528 0.0792196528545\n",
      "0.000399982339561 0.0792196621928\n",
      "0.000596362331659 0.0792196761168\n",
      "0.000889159333916 0.079219696879\n",
      "0.00132571136559 0.079219727839\n",
      "0.0019765980717 0.0792197740087\n",
      "0.00294705170255 0.079219842867\n",
      "0.00439397056076 0.0792199455787\n",
      "0.0065512855686 0.0792200988205\n",
      "0.00976778110089 0.0792203275259\n",
      "0.014563484775 0.0792206690214\n",
      "0.0217137430294 0.079221179297\n",
      "0.0323745754282 0.0792219425793\n",
      "0.0482695743768 0.0792230861038\n",
      "0.0719685673001 0.079224803236\n",
      "0.107303094053 0.0792273903556\n",
      "0.159985871961 0.0792313071107\n",
      "0.238534400643 0.0792372776477\n",
      "0.355648030622 0.0792464659279\n",
      "0.530261133591 0.0792607885067\n",
      "0.790604321091 0.0792834870174\n",
      "1.17876863479 0.0793201959211\n",
      "1.75751062485 0.0793809569559\n",
      "2.62039852886 0.0794840425149\n",
      "3.90693993705 0.0796632377492\n",
      "5.82513671247 0.0799817250669\n",
      "8.68511373751 0.0805583344241\n",
      "12.9492584221 0.0816156483945\n",
      "19.3069772888 0.0835623665773\n",
      "28.7861559235 0.0871183242411\n",
      "42.9193426013 0.0934686962692\n",
      "63.9915233635 0.104388076544\n",
      "95.409547635 0.122230860287\n",
      "142.252931349 0.14970633312\n",
      "212.095088792 0.189453487526\n",
      "316.227766017 0.243455933544\n"
     ]
    }
   ],
   "source": [
    "# use sklearn ridge regression, change for different alpha and check \n",
    "alpha = np.logspace(-6,2.5,50)\n",
    "for a in alpha:\n",
    "    clf = Ridge(alpha = a)\n",
    "    clf.fit(X_train,y_train)\n",
    "    y_p = clf.predict(X_test)\n",
    "    score = sum((y_p-y_test)**2)/1020\n",
    "    print (a, score)"
   ]
  },
  {
   "cell_type": "code",
   "execution_count": 60,
   "metadata": {},
   "outputs": [
    {
     "data": {
      "text/plain": [
       "Ridge(alpha=0.0001, copy_X=True, fit_intercept=True, max_iter=1000,\n",
       "   normalize=False, random_state=None, solver='auto', tol=0.001)"
      ]
     },
     "execution_count": 60,
     "metadata": {},
     "output_type": "execute_result"
    }
   ],
   "source": [
    "clf = Ridge(alpha = 0.0001,max_iter=1000)\n",
    "clf.fit(X_train,y_train)"
   ]
  },
  {
   "cell_type": "code",
   "execution_count": 61,
   "metadata": {
    "collapsed": true
   },
   "outputs": [],
   "source": [
    "y_p = clf.predict(X_test)"
   ]
  },
  {
   "cell_type": "code",
   "execution_count": 62,
   "metadata": {},
   "outputs": [
    {
     "data": {
      "text/plain": [
       "array([-0.67551507,  0.21985496,  0.23725056, ..., -0.18386349,\n",
       "        1.34140792,  0.18155629])"
      ]
     },
     "execution_count": 62,
     "metadata": {},
     "output_type": "execute_result"
    }
   ],
   "source": [
    "y_p\n"
   ]
  },
  {
   "cell_type": "code",
   "execution_count": 63,
   "metadata": {},
   "outputs": [
    {
     "data": {
      "text/plain": [
       "array([-0.67993031, -0.02798639,  0.2080944 , ..., -0.17865299,\n",
       "        1.52015036,  0.03683765])"
      ]
     },
     "execution_count": 63,
     "metadata": {},
     "output_type": "execute_result"
    }
   ],
   "source": [
    "y_test"
   ]
  },
  {
   "cell_type": "code",
   "execution_count": 66,
   "metadata": {},
   "outputs": [
    {
     "data": {
      "text/plain": [
       "0.16256380034845525"
      ]
     },
     "execution_count": 66,
     "metadata": {},
     "output_type": "execute_result"
    }
   ],
   "source": [
    "np. mean(abs(y_p - y_test))  #the error is about 0.16 sigma - 1600 dollars"
   ]
  },
  {
   "cell_type": "code",
   "execution_count": 144,
   "metadata": {
    "scrolled": false
   },
   "outputs": [
    {
     "name": "stdout",
     "output_type": "stream",
     "text": [
      "0.01 0.442582523405\n",
      "0.03 0.447255677449\n",
      "0.1 0.226541633865\n",
      "0.3 0.113595201983\n",
      "0.4 0.104674056053\n",
      "0.5 0.101529998682\n",
      "0.6 0.0990228410779\n",
      "0.7 0.101793679504\n",
      "0.8 0.104946975266\n",
      "0.9 0.105437642075\n",
      "0.99 0.104319208534\n"
     ]
    }
   ],
   "source": [
    "## random forest\n",
    "maxfeat = [0.01,0.03,0.1,0.3,0.4,0.5,0.6,0.7,0.8,0.9,0.99]\n",
    "for m in maxfeat:\n",
    "    clf = RandomForestRegressor(n_estimators = 50,max_features = m)\n",
    "    clf.fit(X_train,y_train)\n",
    "    y_p1 = clf.predict(X_test)\n",
    "    score = (sum((y_p1 - y_test)**2))/1020\n",
    "    print (m,score)"
   ]
  },
  {
   "cell_type": "code",
   "execution_count": 74,
   "metadata": {
    "collapsed": true
   },
   "outputs": [],
   "source": [
    "from xgboost import XGBRegressor"
   ]
  },
  {
   "cell_type": "code",
   "execution_count": 78,
   "metadata": {},
   "outputs": [
    {
     "name": "stdout",
     "output_type": "stream",
     "text": [
      "1 0.203205205277\n",
      "2 0.0692268830663\n",
      "3 0.0368584151233\n",
      "4 0.0274058054297\n",
      "5 0.0318141669317\n",
      "6 0.042231649458\n"
     ]
    }
   ],
   "source": [
    "params = [1,2,3,4,5,6]  #XGBoost performance better, best when max_depth = 4 \n",
    "for p in params:\n",
    "    clf = XGBRegressor(max_depth = p)\n",
    "    clf.fit(X_train,y_train)\n",
    "    y_p2 = clf.predict(X_test)\n",
    "    score =(sum((y_p2 - y_test)**2))/1020\n",
    "    print(p,score)"
   ]
  },
  {
   "cell_type": "code",
   "execution_count": 80,
   "metadata": {
    "collapsed": true
   },
   "outputs": [],
   "source": [
    "clf = XGBRegressor(max_depth = 4)\n",
    "clf.fit(X_train,y_train)\n",
    "y_pfinal = clf.predict(X_test)"
   ]
  },
  {
   "cell_type": "code",
   "execution_count": 90,
   "metadata": {
    "collapsed": true
   },
   "outputs": [],
   "source": [
    "yf = y_pfinal*10155+21859"
   ]
  },
  {
   "cell_type": "code",
   "execution_count": 127,
   "metadata": {
    "collapsed": true
   },
   "outputs": [],
   "source": [
    "yt = y_test*10155+21859"
   ]
  },
  {
   "cell_type": "code",
   "execution_count": 96,
   "metadata": {},
   "outputs": [
    {
     "data": {
      "text/plain": [
       "1034.3927447823921"
      ]
     },
     "execution_count": 96,
     "metadata": {},
     "output_type": "execute_result"
    }
   ],
   "source": [
    "xax = np.mean(abs(yf-yt))"
   ]
  },
  {
   "cell_type": "code",
   "execution_count": 102,
   "metadata": {
    "collapsed": true
   },
   "outputs": [],
   "source": [
    "\n",
    "%matplotlib inline"
   ]
  },
  {
   "cell_type": "code",
   "execution_count": 103,
   "metadata": {},
   "outputs": [
    {
     "data": {
      "text/plain": [
       "<matplotlib.collections.PathCollection at 0x28a7589fac8>"
      ]
     },
     "execution_count": 103,
     "metadata": {},
     "output_type": "execute_result"
    },
    {
     "data": {
      "image/png": "[encoded data removed]",
      "text/plain": [
       "<matplotlib.figure.Figure at 0x28a757e9128>"
      ]
     },
     "metadata": {},
     "output_type": "display_data"
    }
   ],
   "source": [
    "plt.scatter(xax,abs(yf-yt))"
   ]
  },
  {
   "cell_type": "code",
   "execution_count": 104,
   "metadata": {
    "collapsed": true
   },
   "outputs": [],
   "source": [
    "import seaborn as sns"
   ]
  },
  {
   "cell_type": "code",
   "execution_count": 105,
   "metadata": {},
   "outputs": [
    {
     "data": {
      "text/plain": [
       "<matplotlib.collections.PathCollection at 0x28a7f733b70>"
      ]
     },
     "execution_count": 105,
     "metadata": {},
     "output_type": "execute_result"
    },
    {
     "data": {
      "image/png": "[encoded data removed]",
      "text/plain": [
       "<matplotlib.figure.Figure at 0x28a7f69d5f8>"
      ]
     },
     "metadata": {},
     "output_type": "display_data"
    }
   ],
   "source": [
    "plt.scatter(xax,abs(yf-yt))"
   ]
  },
  {
   "cell_type": "code",
   "execution_count": 119,
   "metadata": {
    "collapsed": true
   },
   "outputs": [],
   "source": [
    "err =abs(yf-yt)\n",
    "error = pd.DataFrame(err,columns = ['error abs'])"
   ]
  },
  {
   "cell_type": "code",
   "execution_count": 120,
   "metadata": {},
   "outputs": [
    {
     "data": {
      "text/html": [
       "<div>\n",
       "<style>\n",
       "    .dataframe thead tr:only-child th {\n",
       "        text-align: right;\n",
       "    }\n",
       "\n",
       "    .dataframe thead th {\n",
       "        text-align: left;\n",
       "    }\n",
       "\n",
       "    .dataframe tbody tr th {\n",
       "        vertical-align: top;\n",
       "    }\n",
       "</style>\n",
       "<table border=\"1\" class=\"dataframe\">\n",
       "  <thead>\n",
       "    <tr style=\"text-align: right;\">\n",
       "      <th></th>\n",
       "      <th>error abs</th>\n",
       "    </tr>\n",
       "  </thead>\n",
       "  <tbody>\n",
       "    <tr>\n",
       "      <th>count</th>\n",
       "      <td>1020.000000</td>\n",
       "    </tr>\n",
       "    <tr>\n",
       "      <th>mean</th>\n",
       "      <td>1034.392745</td>\n",
       "    </tr>\n",
       "    <tr>\n",
       "      <th>std</th>\n",
       "      <td>1325.877801</td>\n",
       "    </tr>\n",
       "    <tr>\n",
       "      <th>min</th>\n",
       "      <td>0.044574</td>\n",
       "    </tr>\n",
       "    <tr>\n",
       "      <th>25%</th>\n",
       "      <td>281.893516</td>\n",
       "    </tr>\n",
       "    <tr>\n",
       "      <th>50%</th>\n",
       "      <td>679.625832</td>\n",
       "    </tr>\n",
       "    <tr>\n",
       "      <th>75%</th>\n",
       "      <td>1312.683548</td>\n",
       "    </tr>\n",
       "    <tr>\n",
       "      <th>max</th>\n",
       "      <td>17895.026946</td>\n",
       "    </tr>\n",
       "  </tbody>\n",
       "</table>\n",
       "</div>"
      ],
      "text/plain": [
       "          error abs\n",
       "count   1020.000000\n",
       "mean    1034.392745\n",
       "std     1325.877801\n",
       "min        0.044574\n",
       "25%      281.893516\n",
       "50%      679.625832\n",
       "75%     1312.683548\n",
       "max    17895.026946"
      ]
     },
     "execution_count": 120,
     "metadata": {},
     "output_type": "execute_result"
    }
   ],
   "source": [
    "error.describe()"
   ]
  },
  {
   "cell_type": "code",
   "execution_count": 128,
   "metadata": {
    "collapsed": true
   },
   "outputs": [],
   "source": [
    "yt = pd.DataFrame(yt,columns = ['ytest'])"
   ]
  },
  {
   "cell_type": "code",
   "execution_count": 131,
   "metadata": {
    "collapsed": true
   },
   "outputs": [],
   "source": [
    "yf = pd.DataFrame(yf,columns = ['ypredict'])"
   ]
  },
  {
   "cell_type": "code",
   "execution_count": 133,
   "metadata": {
    "collapsed": true
   },
   "outputs": [],
   "source": [
    "yt['ypredict']=yf"
   ]
  },
  {
   "cell_type": "code",
   "execution_count": 135,
   "metadata": {
    "collapsed": true
   },
   "outputs": [],
   "source": [
    "yt['error']=error"
   ]
  },
  {
   "cell_type": "code",
   "execution_count": 137,
   "metadata": {
    "collapsed": true
   },
   "outputs": [],
   "source": [
    "yt['error percent']=yt.error/yt.ytest"
   ]
  },
  {
   "cell_type": "code",
   "execution_count": 141,
   "metadata": {
    "collapsed": true
   },
   "outputs": [],
   "source": [
    "yt = yt.rename(columns={'error percent':'error_percent'})"
   ]
  },
  {
   "cell_type": "code",
   "execution_count": 142,
   "metadata": {},
   "outputs": [
    {
     "data": {
      "text/plain": [
       "count    1020.000000\n",
       "mean        0.046726\n",
       "std         0.046146\n",
       "min         0.000002\n",
       "25%         0.014601\n",
       "50%         0.034045\n",
       "75%         0.064347\n",
       "max         0.506092\n",
       "Name: error_percent, dtype: float64"
      ]
     },
     "execution_count": 142,
     "metadata": {},
     "output_type": "execute_result"
    }
   ],
   "source": [
    "yt.error_percent.describe()"
   ]
  },
  {
   "cell_type": "code",
   "execution_count": 143,
   "metadata": {
    "collapsed": true
   },
   "outputs": [],
   "source": [
    "yt.to_csv(\"C:/Users/FUGE/Desktop/PROJECT/prediction.csv\")"
   ]
  },
  {
   "cell_type": "code",
   "execution_count": 149,
   "metadata": {
    "collapsed": true
   },
   "outputs": [],
   "source": [
    "clf = XGBRegressor(max_depth = 3,n_estimators = 1000,learning_rate =0.1,reg_lambda = 0)\n",
    "clf.fit(X_train,y_train)\n",
    "y_pfinal = clf.predict(X_test)"
   ]
  },
  {
   "cell_type": "code",
   "execution_count": 150,
   "metadata": {
    "collapsed": true
   },
   "outputs": [],
   "source": [
    "yf = y_pfinal*10155+21859\n",
    "yt = y_test*10155+21859\n",
    "xax = np.mean(abs(yf-yt))"
   ]
  },
  {
   "cell_type": "code",
   "execution_count": 153,
   "metadata": {},
   "outputs": [
    {
     "data": {
      "text/html": [
       "<div>\n",
       "<style>\n",
       "    .dataframe thead tr:only-child th {\n",
       "        text-align: right;\n",
       "    }\n",
       "\n",
       "    .dataframe thead th {\n",
       "        text-align: left;\n",
       "    }\n",
       "\n",
       "    .dataframe tbody tr th {\n",
       "        vertical-align: top;\n",
       "    }\n",
       "</style>\n",
       "<table border=\"1\" class=\"dataframe\">\n",
       "  <thead>\n",
       "    <tr style=\"text-align: right;\">\n",
       "      <th></th>\n",
       "      <th>error abs</th>\n",
       "    </tr>\n",
       "  </thead>\n",
       "  <tbody>\n",
       "    <tr>\n",
       "      <th>count</th>\n",
       "      <td>1020.000000</td>\n",
       "    </tr>\n",
       "    <tr>\n",
       "      <th>mean</th>\n",
       "      <td>743.746923</td>\n",
       "    </tr>\n",
       "    <tr>\n",
       "      <th>std</th>\n",
       "      <td>1071.494235</td>\n",
       "    </tr>\n",
       "    <tr>\n",
       "      <th>min</th>\n",
       "      <td>1.004607</td>\n",
       "    </tr>\n",
       "    <tr>\n",
       "      <th>25%</th>\n",
       "      <td>204.210032</td>\n",
       "    </tr>\n",
       "    <tr>\n",
       "      <th>50%</th>\n",
       "      <td>454.686556</td>\n",
       "    </tr>\n",
       "    <tr>\n",
       "      <th>75%</th>\n",
       "      <td>883.063407</td>\n",
       "    </tr>\n",
       "    <tr>\n",
       "      <th>max</th>\n",
       "      <td>12283.956634</td>\n",
       "    </tr>\n",
       "  </tbody>\n",
       "</table>\n",
       "</div>"
      ],
      "text/plain": [
       "          error abs\n",
       "count   1020.000000\n",
       "mean     743.746923\n",
       "std     1071.494235\n",
       "min        1.004607\n",
       "25%      204.210032\n",
       "50%      454.686556\n",
       "75%      883.063407\n",
       "max    12283.956634"
      ]
     },
     "execution_count": 153,
     "metadata": {},
     "output_type": "execute_result"
    }
   ],
   "source": [
    "err =abs(yf-yt)\n",
    "error = pd.DataFrame(err,columns = ['error abs'])\n",
    "error.describe()"
   ]
  },
  {
   "cell_type": "code",
   "execution_count": 154,
   "metadata": {},
   "outputs": [
    {
     "data": {
      "text/plain": [
       "count    1020.000000\n",
       "mean        0.034631\n",
       "std         0.048485\n",
       "min         0.000050\n",
       "25%         0.010159\n",
       "50%         0.022900\n",
       "75%         0.044405\n",
       "max         0.924589\n",
       "Name: error_percent, dtype: float64"
      ]
     },
     "execution_count": 154,
     "metadata": {},
     "output_type": "execute_result"
    }
   ],
   "source": [
    "yt = pd.DataFrame(yt,columns = ['ytest'])\n",
    "yf = pd.DataFrame(yf,columns = ['ypredict'])\n",
    "yt['ypredict']=yf\n",
    "yt['error']=error\n",
    "yt['error_percent']=yt.error/yt.ytest\n",
    "yt.error_percent.describe()"
   ]
  },
  {
   "cell_type": "code",
   "execution_count": 166,
   "metadata": {
    "collapsed": true
   },
   "outputs": [],
   "source": [
    "clf = XGBRegressor(max_depth = 3,n_estimators = 10000,learning_rate =0.1,reg_lambda = 0)\n",
    "clf.fit(X_train,y_train)\n",
    "y_pfinal = clf.predict(X_test)"
   ]
  },
  {
   "cell_type": "code",
   "execution_count": 167,
   "metadata": {},
   "outputs": [
    {
     "data": {
      "text/html": [
       "<div>\n",
       "<style>\n",
       "    .dataframe thead tr:only-child th {\n",
       "        text-align: right;\n",
       "    }\n",
       "\n",
       "    .dataframe thead th {\n",
       "        text-align: left;\n",
       "    }\n",
       "\n",
       "    .dataframe tbody tr th {\n",
       "        vertical-align: top;\n",
       "    }\n",
       "</style>\n",
       "<table border=\"1\" class=\"dataframe\">\n",
       "  <thead>\n",
       "    <tr style=\"text-align: right;\">\n",
       "      <th></th>\n",
       "      <th>error abs</th>\n",
       "    </tr>\n",
       "  </thead>\n",
       "  <tbody>\n",
       "    <tr>\n",
       "      <th>count</th>\n",
       "      <td>1020.000000</td>\n",
       "    </tr>\n",
       "    <tr>\n",
       "      <th>mean</th>\n",
       "      <td>711.699947</td>\n",
       "    </tr>\n",
       "    <tr>\n",
       "      <th>std</th>\n",
       "      <td>1031.794624</td>\n",
       "    </tr>\n",
       "    <tr>\n",
       "      <th>min</th>\n",
       "      <td>2.269173</td>\n",
       "    </tr>\n",
       "    <tr>\n",
       "      <th>25%</th>\n",
       "      <td>189.625381</td>\n",
       "    </tr>\n",
       "    <tr>\n",
       "      <th>50%</th>\n",
       "      <td>436.053989</td>\n",
       "    </tr>\n",
       "    <tr>\n",
       "      <th>75%</th>\n",
       "      <td>852.209049</td>\n",
       "    </tr>\n",
       "    <tr>\n",
       "      <th>max</th>\n",
       "      <td>11957.440680</td>\n",
       "    </tr>\n",
       "  </tbody>\n",
       "</table>\n",
       "</div>"
      ],
      "text/plain": [
       "          error abs\n",
       "count   1020.000000\n",
       "mean     711.699947\n",
       "std     1031.794624\n",
       "min        2.269173\n",
       "25%      189.625381\n",
       "50%      436.053989\n",
       "75%      852.209049\n",
       "max    11957.440680"
      ]
     },
     "execution_count": 167,
     "metadata": {},
     "output_type": "execute_result"
    }
   ],
   "source": [
    "yf = y_pfinal*10155+21859\n",
    "yt = y_test*10155+21859\n",
    "xax = np.mean(abs(yf-yt))\n",
    "err =abs(yf-yt)\n",
    "error = pd.DataFrame(err,columns = ['error abs'])\n",
    "error.describe()"
   ]
  },
  {
   "cell_type": "code",
   "execution_count": 172,
   "metadata": {
    "collapsed": true
   },
   "outputs": [],
   "source": [
    "from sklearn.svm import SVR"
   ]
  },
  {
   "cell_type": "code",
   "execution_count": 173,
   "metadata": {
    "collapsed": true
   },
   "outputs": [],
   "source": [
    "clf = SVR(C=100,kernel = 'poly',degree =2)\n",
    "clf.fit(X_train,y_train)\n",
    "y_pfinal = clf.predict(X_test)"
   ]
  },
  {
   "cell_type": "code",
   "execution_count": 174,
   "metadata": {},
   "outputs": [
    {
     "data": {
      "text/html": [
       "<div>\n",
       "<style>\n",
       "    .dataframe thead tr:only-child th {\n",
       "        text-align: right;\n",
       "    }\n",
       "\n",
       "    .dataframe thead th {\n",
       "        text-align: left;\n",
       "    }\n",
       "\n",
       "    .dataframe tbody tr th {\n",
       "        vertical-align: top;\n",
       "    }\n",
       "</style>\n",
       "<table border=\"1\" class=\"dataframe\">\n",
       "  <thead>\n",
       "    <tr style=\"text-align: right;\">\n",
       "      <th></th>\n",
       "      <th>error abs</th>\n",
       "    </tr>\n",
       "  </thead>\n",
       "  <tbody>\n",
       "    <tr>\n",
       "      <th>count</th>\n",
       "      <td>1020.000000</td>\n",
       "    </tr>\n",
       "    <tr>\n",
       "      <th>mean</th>\n",
       "      <td>682.367797</td>\n",
       "    </tr>\n",
       "    <tr>\n",
       "      <th>std</th>\n",
       "      <td>682.603856</td>\n",
       "    </tr>\n",
       "    <tr>\n",
       "      <th>min</th>\n",
       "      <td>1.369197</td>\n",
       "    </tr>\n",
       "    <tr>\n",
       "      <th>25%</th>\n",
       "      <td>268.403870</td>\n",
       "    </tr>\n",
       "    <tr>\n",
       "      <th>50%</th>\n",
       "      <td>530.230986</td>\n",
       "    </tr>\n",
       "    <tr>\n",
       "      <th>75%</th>\n",
       "      <td>913.214282</td>\n",
       "    </tr>\n",
       "    <tr>\n",
       "      <th>max</th>\n",
       "      <td>9421.641862</td>\n",
       "    </tr>\n",
       "  </tbody>\n",
       "</table>\n",
       "</div>"
      ],
      "text/plain": [
       "         error abs\n",
       "count  1020.000000\n",
       "mean    682.367797\n",
       "std     682.603856\n",
       "min       1.369197\n",
       "25%     268.403870\n",
       "50%     530.230986\n",
       "75%     913.214282\n",
       "max    9421.641862"
      ]
     },
     "execution_count": 174,
     "metadata": {},
     "output_type": "execute_result"
    }
   ],
   "source": [
    "yf = y_pfinal*10155+21859\n",
    "yt = y_test*10155+21859\n",
    "xax = np.mean(abs(yf-yt))\n",
    "err =abs(yf-yt)\n",
    "error = pd.DataFrame(err,columns = ['error abs'])\n",
    "error.describe()"
   ]
  },
  {
   "cell_type": "code",
   "execution_count": 175,
   "metadata": {},
   "outputs": [
    {
     "data": {
      "text/plain": [
       "count    1020.000000\n",
       "mean        0.035658\n",
       "std         0.037438\n",
       "min         0.000068\n",
       "25%         0.012775\n",
       "50%         0.026130\n",
       "75%         0.045123\n",
       "max         0.515447\n",
       "Name: error_percent, dtype: float64"
      ]
     },
     "execution_count": 175,
     "metadata": {},
     "output_type": "execute_result"
    }
   ],
   "source": [
    "yt = pd.DataFrame(yt,columns = ['ytest'])\n",
    "yf = pd.DataFrame(yf,columns = ['ypredict'])\n",
    "yt['ypredict']=yf\n",
    "yt['error']=error\n",
    "yt['error_percent']=yt.error/yt.ytest\n",
    "yt.error_percent.describe()"
   ]
  },
  {
   "cell_type": "code",
   "execution_count": 176,
   "metadata": {},
   "outputs": [
    {
     "data": {
      "text/plain": [
       "682.36779692884113"
      ]
     },
     "execution_count": 176,
     "metadata": {},
     "output_type": "execute_result"
    }
   ],
   "source": [
    "xax"
   ]
  },
  {
   "cell_type": "code",
   "execution_count": 177,
   "metadata": {
    "collapsed": true
   },
   "outputs": [],
   "source": [
    "from sklearn.linear_model import Ridge\n",
    "from sklearn.preprocessing import PolynomialFeatures\n",
    "from sklearn.pipeline import make_pipeline"
   ]
  },
  {
   "cell_type": "code",
   "execution_count": 179,
   "metadata": {
    "collapsed": true
   },
   "outputs": [],
   "source": [
    "#implement RIDGE with polynomial features\n",
    "clf = make_pipeline(PolynomialFeatures(degree =2),Ridge(alpha = 0.3))\n",
    "clf.fit(X_train,y_train)\n",
    "y_pfinal = clf.predict(X_test)"
   ]
  },
  {
   "cell_type": "code",
   "execution_count": 180,
   "metadata": {},
   "outputs": [
    {
     "name": "stdout",
     "output_type": "stream",
     "text": [
      "xax : 329.335243201\n"
     ]
    },
    {
     "data": {
      "text/html": [
       "<div>\n",
       "<style>\n",
       "    .dataframe thead tr:only-child th {\n",
       "        text-align: right;\n",
       "    }\n",
       "\n",
       "    .dataframe thead th {\n",
       "        text-align: left;\n",
       "    }\n",
       "\n",
       "    .dataframe tbody tr th {\n",
       "        vertical-align: top;\n",
       "    }\n",
       "</style>\n",
       "<table border=\"1\" class=\"dataframe\">\n",
       "  <thead>\n",
       "    <tr style=\"text-align: right;\">\n",
       "      <th></th>\n",
       "      <th>error abs</th>\n",
       "    </tr>\n",
       "  </thead>\n",
       "  <tbody>\n",
       "    <tr>\n",
       "      <th>count</th>\n",
       "      <td>1020.000000</td>\n",
       "    </tr>\n",
       "    <tr>\n",
       "      <th>mean</th>\n",
       "      <td>329.335243</td>\n",
       "    </tr>\n",
       "    <tr>\n",
       "      <th>std</th>\n",
       "      <td>518.228503</td>\n",
       "    </tr>\n",
       "    <tr>\n",
       "      <th>min</th>\n",
       "      <td>0.409380</td>\n",
       "    </tr>\n",
       "    <tr>\n",
       "      <th>25%</th>\n",
       "      <td>106.607145</td>\n",
       "    </tr>\n",
       "    <tr>\n",
       "      <th>50%</th>\n",
       "      <td>219.463349</td>\n",
       "    </tr>\n",
       "    <tr>\n",
       "      <th>75%</th>\n",
       "      <td>384.703014</td>\n",
       "    </tr>\n",
       "    <tr>\n",
       "      <th>max</th>\n",
       "      <td>10256.052301</td>\n",
       "    </tr>\n",
       "  </tbody>\n",
       "</table>\n",
       "</div>"
      ],
      "text/plain": [
       "          error abs\n",
       "count   1020.000000\n",
       "mean     329.335243\n",
       "std      518.228503\n",
       "min        0.409380\n",
       "25%      106.607145\n",
       "50%      219.463349\n",
       "75%      384.703014\n",
       "max    10256.052301"
      ]
     },
     "execution_count": 180,
     "metadata": {},
     "output_type": "execute_result"
    }
   ],
   "source": [
    "yf = y_pfinal*10155+21859\n",
    "yt = y_test*10155+21859\n",
    "xax = np.mean(abs(yf-yt))\n",
    "print('xax :',xax)\n",
    "err =abs(yf-yt)\n",
    "error = pd.DataFrame(err,columns = ['error abs'])\n",
    "error.describe()"
   ]
  },
  {
   "cell_type": "code",
   "execution_count": 181,
   "metadata": {},
   "outputs": [
    {
     "data": {
      "text/plain": [
       "count    1020.000000\n",
       "mean        0.016508\n",
       "std         0.020389\n",
       "min         0.000013\n",
       "25%         0.005049\n",
       "50%         0.010580\n",
       "75%         0.019974\n",
       "max         0.232323\n",
       "Name: error_percent, dtype: float64"
      ]
     },
     "execution_count": 181,
     "metadata": {},
     "output_type": "execute_result"
    }
   ],
   "source": [
    "yt = pd.DataFrame(yt,columns = ['ytest'])\n",
    "yf = pd.DataFrame(yf,columns = ['ypredict'])\n",
    "yt['ypredict']=yf\n",
    "yt['error']=error\n",
    "yt['error_percent']=yt.error/yt.ytest\n",
    "yt.error_percent.describe()"
   ]
  },
  {
   "cell_type": "code",
   "execution_count": 192,
   "metadata": {
    "collapsed": true
   },
   "outputs": [],
   "source": [
    "#implement XGBregressor with polynomial features degree =2 , looks like over fitting\n",
    "clf = make_pipeline(PolynomialFeatures(), XGBRegressor(max_depth = 3,n_estimators = 1000,reg_lambda = 0.3))\n",
    "clf.fit(X_train,y_train)\n",
    "y_pfinal = clf.predict(X_test)"
   ]
  },
  {
   "cell_type": "code",
   "execution_count": 193,
   "metadata": {},
   "outputs": [
    {
     "name": "stdout",
     "output_type": "stream",
     "text": [
      "xax : 738.492857122\n"
     ]
    },
    {
     "data": {
      "text/html": [
       "<div>\n",
       "<style>\n",
       "    .dataframe thead tr:only-child th {\n",
       "        text-align: right;\n",
       "    }\n",
       "\n",
       "    .dataframe thead th {\n",
       "        text-align: left;\n",
       "    }\n",
       "\n",
       "    .dataframe tbody tr th {\n",
       "        vertical-align: top;\n",
       "    }\n",
       "</style>\n",
       "<table border=\"1\" class=\"dataframe\">\n",
       "  <thead>\n",
       "    <tr style=\"text-align: right;\">\n",
       "      <th></th>\n",
       "      <th>error abs</th>\n",
       "    </tr>\n",
       "  </thead>\n",
       "  <tbody>\n",
       "    <tr>\n",
       "      <th>count</th>\n",
       "      <td>1020.000000</td>\n",
       "    </tr>\n",
       "    <tr>\n",
       "      <th>mean</th>\n",
       "      <td>738.492857</td>\n",
       "    </tr>\n",
       "    <tr>\n",
       "      <th>std</th>\n",
       "      <td>1035.269875</td>\n",
       "    </tr>\n",
       "    <tr>\n",
       "      <th>min</th>\n",
       "      <td>0.223958</td>\n",
       "    </tr>\n",
       "    <tr>\n",
       "      <th>25%</th>\n",
       "      <td>203.893193</td>\n",
       "    </tr>\n",
       "    <tr>\n",
       "      <th>50%</th>\n",
       "      <td>469.319372</td>\n",
       "    </tr>\n",
       "    <tr>\n",
       "      <th>75%</th>\n",
       "      <td>876.166612</td>\n",
       "    </tr>\n",
       "    <tr>\n",
       "      <th>max</th>\n",
       "      <td>13459.964118</td>\n",
       "    </tr>\n",
       "  </tbody>\n",
       "</table>\n",
       "</div>"
      ],
      "text/plain": [
       "          error abs\n",
       "count   1020.000000\n",
       "mean     738.492857\n",
       "std     1035.269875\n",
       "min        0.223958\n",
       "25%      203.893193\n",
       "50%      469.319372\n",
       "75%      876.166612\n",
       "max    13459.964118"
      ]
     },
     "execution_count": 193,
     "metadata": {},
     "output_type": "execute_result"
    }
   ],
   "source": [
    "yf = y_pfinal*10155+21859\n",
    "yt = y_test*10155+21859\n",
    "xax = np.mean(abs(yf-yt))\n",
    "print('xax :',xax)\n",
    "err =abs(yf-yt)\n",
    "error = pd.DataFrame(err,columns = ['error abs'])\n",
    "error.describe()"
   ]
  },
  {
   "cell_type": "code",
   "execution_count": null,
   "metadata": {
    "collapsed": true
   },
   "outputs": [],
   "source": []
  }
 ],
 "metadata": {
  "kernelspec": {
   "display_name": "Python 3",
   "language": "python",
   "name": "python3"
  },
  "language_info": {
   "codemirror_mode": {
    "name": "ipython",
    "version": 3
   },
   "file_extension": ".py",
   "mimetype": "text/x-python",
   "name": "python",
   "nbconvert_exporter": "python",
   "pygments_lexer": "ipython3",
   "version": "3.6.1"
  }
 },
 "nbformat": 4,
 "nbformat_minor": 2
}
