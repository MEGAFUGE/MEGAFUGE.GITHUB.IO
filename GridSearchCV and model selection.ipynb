{
 "cells": [
  {
   "cell_type": "code",
   "execution_count": 1,
   "metadata": {
    "collapsed": true
   },
   "outputs": [],
   "source": [
    "import numpy as np"
   ]
  },
  {
   "cell_type": "code",
   "execution_count": 2,
   "metadata": {
    "collapsed": true
   },
   "outputs": [],
   "source": [
    "import pandas as pd\n",
    "import matplotlib.pyplot as plt\n",
    "from sklearn.model_selection import cross_val_score\n",
    "from xgboost import XGBRegressor\n",
    "from sklearn.grid_search import GridSearchCV\n",
    "from sklearn.metrics import classification_report"
   ]
  },
  {
   "cell_type": "code",
   "execution_count": 3,
   "metadata": {
    "collapsed": true
   },
   "outputs": [],
   "source": [
    "#import data\n",
    "dataset = pd.read_csv(\"C:/Users/FUGE/Desktop/HOLMUSK PROJECT/finalml.csv\")"
   ]
  },
  {
   "cell_type": "code",
   "execution_count": 4,
   "metadata": {
    "collapsed": true
   },
   "outputs": [],
   "source": [
    "data = dataset.drop(['Unnamed: 0','patient_id'],axis = 1)"
   ]
  },
  {
   "cell_type": "code",
   "execution_count": 5,
   "metadata": {},
   "outputs": [
    {
     "data": {
      "text/plain": [
       "Index(['totalamt', 'medical_history_1', 'medical_history_2',\n",
       "       'medical_history_3', 'medical_history_4', 'medical_history_5',\n",
       "       'medical_history_6', 'medical_history_7', 'preop_medication_1',\n",
       "       'preop_medication_2', 'preop_medication_3', 'preop_medication_4',\n",
       "       'preop_medication_5', 'preop_medication_6', 'symptom_1', 'symptom_2',\n",
       "       'symptom_3', 'symptom_4', 'symptom_5', 'lab_result_1', 'lab_result_2',\n",
       "       'lab_result_3', 'weight', 'height', 'age', 'stay', 'bmi', 'gender_F',\n",
       "       'gender_M', 'race_Chinese', 'race_Indian', 'race_Malay', 'race_Others',\n",
       "       'resident_status_Foreigner', 'resident_status_PR',\n",
       "       'resident_status_Singaporean'],\n",
       "      dtype='object')"
      ]
     },
     "execution_count": 5,
     "metadata": {},
     "output_type": "execute_result"
    }
   ],
   "source": [
    "data.columns"
   ]
  },
  {
   "cell_type": "code",
   "execution_count": 6,
   "metadata": {
    "collapsed": true
   },
   "outputs": [],
   "source": [
    "colmean = data.loc[:,['lab_result_1', 'lab_result_2',\n",
    "       'lab_result_3', 'weight', 'height', 'age', 'stay', 'bmi']].mean()\n",
    "colstd = data.loc[:,['lab_result_1', 'lab_result_2',\n",
    "       'lab_result_3', 'weight', 'height', 'age', 'stay', 'bmi']].std()"
   ]
  },
  {
   "cell_type": "code",
   "execution_count": 7,
   "metadata": {
    "collapsed": true
   },
   "outputs": [],
   "source": [
    "data.loc[:,['lab_result_1', 'lab_result_2',\n",
    "       'lab_result_3', 'weight', 'height', 'age', 'stay', 'bmi']]= (data.loc[:,['lab_result_1', 'lab_result_2',\n",
    "       'lab_result_3', 'weight', 'height', 'age', 'stay', 'bmi']]-colmean)/colstd  #data standardization"
   ]
  },
  {
   "cell_type": "code",
   "execution_count": 8,
   "metadata": {
    "collapsed": true
   },
   "outputs": [],
   "source": [
    "X = data.drop(['totalamt'],axis=1)\n",
    "y = data.totalamt\n",
    "y = (y - y.mean())/y.std()"
   ]
  },
  {
   "cell_type": "code",
   "execution_count": 10,
   "metadata": {},
   "outputs": [
    {
     "data": {
      "text/plain": [
       "0   -1.641354\n",
       "1    0.073107\n",
       "2   -0.434441\n",
       "3   -0.647265\n",
       "4    5.082923\n",
       "Name: totalamt, dtype: float64"
      ]
     },
     "execution_count": 10,
     "metadata": {},
     "output_type": "execute_result"
    }
   ],
   "source": [
    "y.head()"
   ]
  },
  {
   "cell_type": "code",
   "execution_count": 11,
   "metadata": {
    "collapsed": true
   },
   "outputs": [],
   "source": [
    "from sklearn.cross_validation import train_test_split #split for training set and test set"
   ]
  },
  {
   "cell_type": "code",
   "execution_count": 66,
   "metadata": {
    "collapsed": true
   },
   "outputs": [],
   "source": [
    "X_train, X_val, y_train, y_val = train_test_split(X, y, test_size=0.4) # 60% for training"
   ]
  },
  {
   "cell_type": "code",
   "execution_count": 67,
   "metadata": {
    "collapsed": true
   },
   "outputs": [],
   "source": [
    "X_cval, X_test, y_cval, y_test = train_test_split(X_val,y_val,test_size=0.5) #20% for CV,20% for test"
   ]
  },
  {
   "cell_type": "code",
   "execution_count": 68,
   "metadata": {},
   "outputs": [
    {
     "data": {
      "text/plain": [
       "(2040, 35)"
      ]
     },
     "execution_count": 68,
     "metadata": {},
     "output_type": "execute_result"
    }
   ],
   "source": [
    "X_train.shape"
   ]
  },
  {
   "cell_type": "code",
   "execution_count": 69,
   "metadata": {},
   "outputs": [
    {
     "data": {
      "text/plain": [
       "(680, 35)"
      ]
     },
     "execution_count": 69,
     "metadata": {},
     "output_type": "execute_result"
    }
   ],
   "source": [
    "X_cval.shape"
   ]
  },
  {
   "cell_type": "code",
   "execution_count": 70,
   "metadata": {},
   "outputs": [
    {
     "data": {
      "text/plain": [
       "(680, 35)"
      ]
     },
     "execution_count": 70,
     "metadata": {},
     "output_type": "execute_result"
    }
   ],
   "source": [
    "X_test.shape"
   ]
  },
  {
   "cell_type": "code",
   "execution_count": 71,
   "metadata": {
    "collapsed": true
   },
   "outputs": [],
   "source": [
    "import xgboost as xgb"
   ]
  },
  {
   "cell_type": "code",
   "execution_count": 73,
   "metadata": {},
   "outputs": [],
   "source": [
    "X_train = np.asarray(X_train)"
   ]
  },
  {
   "cell_type": "code",
   "execution_count": 74,
   "metadata": {},
   "outputs": [],
   "source": [
    "y_train = np.asarray(y_train)"
   ]
  },
  {
   "cell_type": "code",
   "execution_count": 102,
   "metadata": {
    "collapsed": true
   },
   "outputs": [],
   "source": [
    "X_test = X_test.values\n",
    "y_test = y_test.values"
   ]
  },
  {
   "cell_type": "code",
   "execution_count": 107,
   "metadata": {
    "collapsed": true
   },
   "outputs": [],
   "source": [
    "X_cval = np.asarray(X_cval)"
   ]
  },
  {
   "cell_type": "code",
   "execution_count": 108,
   "metadata": {
    "collapsed": true
   },
   "outputs": [],
   "source": [
    "y_cval = np.asarray(y_cval)"
   ]
  },
  {
   "cell_type": "code",
   "execution_count": 58,
   "metadata": {
    "collapsed": true
   },
   "outputs": [],
   "source": [
    "from sklearn.model_selection import StratifiedKFold\n",
    "from sklearn.model_selection import GridSearchCV"
   ]
  },
  {
   "cell_type": "code",
   "execution_count": 113,
   "metadata": {},
   "outputs": [
    {
     "name": "stdout",
     "output_type": "stream",
     "text": [
      "Best: -0.025281 using {'learning_rate': 0.1, 'max_depth': 3, 'n_estimators': 1000, 'reg_lambda': 0}\n",
      "-0.025281 (0.014964) with: {'learning_rate': 0.1, 'max_depth': 3, 'n_estimators': 1000, 'reg_lambda': 0}\n"
     ]
    }
   ],
   "source": [
    "# grid search\n",
    "model = XGBRegressor()\n",
    "param_grid = {'n_estimators':[1000],\n",
    "              'max_depth':[3],\n",
    "              'learning_rate':[0.1],\n",
    "             'reg_lambda':[0],\n",
    "             }\n",
    "grid_search = GridSearchCV(model,param_grid,scoring='neg_mean_squared_error',cv=5)\n",
    "grid_result = grid_search.fit(X_train,y_train)\n",
    "\n",
    "print(\"Best: %f using %s\" % (grid_result.best_score_, grid_result.best_params_))\n",
    "means = grid_result.cv_results_['mean_test_score']\n",
    "stds = grid_result.cv_results_['std_test_score']\n",
    "params = grid_result.cv_results_['params']\n",
    "for mean, stdev, param in zip(means, stds, params):\n",
    "\tprint(\"%f (%f) with: %r\" % (mean, stdev, param))"
   ]
  },
  {
   "cell_type": "code",
   "execution_count": 51,
   "metadata": {},
   "outputs": [
    {
     "data": {
      "text/plain": [
       "{'e': [50, 100, 150, 200, 250, 300, 350]}"
      ]
     },
     "execution_count": 51,
     "metadata": {},
     "output_type": "execute_result"
    }
   ],
   "source": [
    "e = list(range(50,400,50))\n",
    "dict(e = e)"
   ]
  },
  {
   "cell_type": "code",
   "execution_count": 43,
   "metadata": {},
   "outputs": [
    {
     "data": {
      "text/plain": [
       "range"
      ]
     },
     "execution_count": 43,
     "metadata": {},
     "output_type": "execute_result"
    }
   ],
   "source": [
    "type(range(50,400,50))"
   ]
  },
  {
   "cell_type": "code",
   "execution_count": 110,
   "metadata": {},
   "outputs": [],
   "source": [
    "clf = XGBRegressor(max_depth = 3,n_estimators = 1000,learning_rate =0.1,reg_lambda = 0)\n",
    "clf.fit(X_train,y_train)\n",
    "y_pfinal = clf.predict(X_cval)"
   ]
  },
  {
   "cell_type": "code",
   "execution_count": 111,
   "metadata": {
    "collapsed": true
   },
   "outputs": [],
   "source": [
    "yf = y_pfinal*10155+21859\n",
    "yt = y_cval*10155+21859\n",
    "xax = np.mean(abs(yf-yt))"
   ]
  },
  {
   "cell_type": "code",
   "execution_count": 112,
   "metadata": {},
   "outputs": [
    {
     "data": {
      "text/html": [
       "<div>\n",
       "<style>\n",
       "    .dataframe thead tr:only-child th {\n",
       "        text-align: right;\n",
       "    }\n",
       "\n",
       "    .dataframe thead th {\n",
       "        text-align: left;\n",
       "    }\n",
       "\n",
       "    .dataframe tbody tr th {\n",
       "        vertical-align: top;\n",
       "    }\n",
       "</style>\n",
       "<table border=\"1\" class=\"dataframe\">\n",
       "  <thead>\n",
       "    <tr style=\"text-align: right;\">\n",
       "      <th></th>\n",
       "      <th>error abs</th>\n",
       "    </tr>\n",
       "  </thead>\n",
       "  <tbody>\n",
       "    <tr>\n",
       "      <th>count</th>\n",
       "      <td>680.000000</td>\n",
       "    </tr>\n",
       "    <tr>\n",
       "      <th>mean</th>\n",
       "      <td>885.773550</td>\n",
       "    </tr>\n",
       "    <tr>\n",
       "      <th>std</th>\n",
       "      <td>1558.276552</td>\n",
       "    </tr>\n",
       "    <tr>\n",
       "      <th>min</th>\n",
       "      <td>0.797469</td>\n",
       "    </tr>\n",
       "    <tr>\n",
       "      <th>25%</th>\n",
       "      <td>233.741154</td>\n",
       "    </tr>\n",
       "    <tr>\n",
       "      <th>50%</th>\n",
       "      <td>501.994283</td>\n",
       "    </tr>\n",
       "    <tr>\n",
       "      <th>75%</th>\n",
       "      <td>950.976195</td>\n",
       "    </tr>\n",
       "    <tr>\n",
       "      <th>max</th>\n",
       "      <td>21096.365947</td>\n",
       "    </tr>\n",
       "  </tbody>\n",
       "</table>\n",
       "</div>"
      ],
      "text/plain": [
       "          error abs\n",
       "count    680.000000\n",
       "mean     885.773550\n",
       "std     1558.276552\n",
       "min        0.797469\n",
       "25%      233.741154\n",
       "50%      501.994283\n",
       "75%      950.976195\n",
       "max    21096.365947"
      ]
     },
     "execution_count": 112,
     "metadata": {},
     "output_type": "execute_result"
    }
   ],
   "source": [
    "err =abs(yf-yt)\n",
    "error = pd.DataFrame(err,columns = ['error abs'])\n",
    "error.describe()"
   ]
  },
  {
   "cell_type": "code",
   "execution_count": 114,
   "metadata": {
    "collapsed": true
   },
   "outputs": [],
   "source": [
    "from sklearn.svm import SVR"
   ]
  },
  {
   "cell_type": "code",
   "execution_count": 137,
   "metadata": {},
   "outputs": [
    {
     "name": "stdout",
     "output_type": "stream",
     "text": [
      "Best: -0.014207 using {'C': 100, 'degree': 2, 'kernel': 'poly'}\n",
      "-0.015695 (0.008595) with: {'C': 50, 'degree': 2, 'kernel': 'poly'}\n",
      "-0.014207 (0.006718) with: {'C': 100, 'degree': 2, 'kernel': 'poly'}\n",
      "-0.014645 (0.006456) with: {'C': 200, 'degree': 2, 'kernel': 'poly'}\n",
      "-0.014644 (0.006451) with: {'C': 500, 'degree': 2, 'kernel': 'poly'}\n"
     ]
    }
   ],
   "source": [
    "# grid search  ##found poly kernel degree = 2 with better performance than SVR() --> \n",
    "##too few features need to add more polynominal ? should also try add polynominal in other model\n",
    "model = SVR()\n",
    "param_grid = {'C':[50,100,200,500],\n",
    "             'kernel':['poly'],\n",
    "             'degree':[2]}\n",
    "grid_search = GridSearchCV(model,param_grid,scoring='neg_mean_squared_error',cv=5)\n",
    "grid_result = grid_search.fit(X_train,y_train)\n",
    "\n",
    "print(\"Best: %f using %s\" % (grid_result.best_score_, grid_result.best_params_))\n",
    "means = grid_result.cv_results_['mean_test_score']\n",
    "stds = grid_result.cv_results_['std_test_score']\n",
    "params = grid_result.cv_results_['params']\n",
    "for mean, stdev, param in zip(means, stds, params):\n",
    "\tprint(\"%f (%f) with: %r\" % (mean, stdev, param))"
   ]
  },
  {
   "cell_type": "code",
   "execution_count": 122,
   "metadata": {
    "collapsed": true
   },
   "outputs": [],
   "source": [
    "from sklearn import linear_model"
   ]
  },
  {
   "cell_type": "code",
   "execution_count": 129,
   "metadata": {},
   "outputs": [
    {
     "name": "stdout",
     "output_type": "stream",
     "text": [
      "Best: -0.069071 using {'alpha': 0.001}\n",
      "-0.069248 (0.031796) with: {'alpha': 0.0001}\n",
      "-0.069163 (0.031915) with: {'alpha': 0.0003}\n",
      "-0.069073 (0.032164) with: {'alpha': 0.0007}\n",
      "-0.069071 (0.032365) with: {'alpha': 0.001}\n",
      "-0.070066 (0.034111) with: {'alpha': 0.003}\n"
     ]
    }
   ],
   "source": [
    "# grid search LASSO\n",
    "model = linear_model.Lasso()\n",
    "param_grid = {'alpha':[0.0001,0.0003,0.0007,0.001,0.003]}\n",
    "grid_search = GridSearchCV(model,param_grid,scoring='neg_mean_squared_error',cv=5)\n",
    "grid_result = grid_search.fit(X_train,y_train)\n",
    "\n",
    "print(\"Best: %f using %s\" % (grid_result.best_score_, grid_result.best_params_))\n",
    "means = grid_result.cv_results_['mean_test_score']\n",
    "stds = grid_result.cv_results_['std_test_score']\n",
    "params = grid_result.cv_results_['params']\n",
    "for mean, stdev, param in zip(means, stds, params):\n",
    "\tprint(\"%f (%f) with: %r\" % (mean, stdev, param))"
   ]
  },
  {
   "cell_type": "code",
   "execution_count": 135,
   "metadata": {
    "collapsed": true
   },
   "outputs": [],
   "source": [
    "clf = SVR(C=100,kernel = 'poly',degree =2)\n",
    "clf.fit(X_train,y_train)\n",
    "y_pfinal = clf.predict(X_cval)"
   ]
  },
  {
   "cell_type": "code",
   "execution_count": 136,
   "metadata": {},
   "outputs": [
    {
     "data": {
      "text/html": [
       "<div>\n",
       "<style>\n",
       "    .dataframe thead tr:only-child th {\n",
       "        text-align: right;\n",
       "    }\n",
       "\n",
       "    .dataframe thead th {\n",
       "        text-align: left;\n",
       "    }\n",
       "\n",
       "    .dataframe tbody tr th {\n",
       "        vertical-align: top;\n",
       "    }\n",
       "</style>\n",
       "<table border=\"1\" class=\"dataframe\">\n",
       "  <thead>\n",
       "    <tr style=\"text-align: right;\">\n",
       "      <th></th>\n",
       "      <th>error abs</th>\n",
       "    </tr>\n",
       "  </thead>\n",
       "  <tbody>\n",
       "    <tr>\n",
       "      <th>count</th>\n",
       "      <td>680.000000</td>\n",
       "    </tr>\n",
       "    <tr>\n",
       "      <th>mean</th>\n",
       "      <td>693.956573</td>\n",
       "    </tr>\n",
       "    <tr>\n",
       "      <th>std</th>\n",
       "      <td>712.477372</td>\n",
       "    </tr>\n",
       "    <tr>\n",
       "      <th>min</th>\n",
       "      <td>1.502875</td>\n",
       "    </tr>\n",
       "    <tr>\n",
       "      <th>25%</th>\n",
       "      <td>242.194541</td>\n",
       "    </tr>\n",
       "    <tr>\n",
       "      <th>50%</th>\n",
       "      <td>551.845512</td>\n",
       "    </tr>\n",
       "    <tr>\n",
       "      <th>75%</th>\n",
       "      <td>919.307795</td>\n",
       "    </tr>\n",
       "    <tr>\n",
       "      <th>max</th>\n",
       "      <td>7016.002666</td>\n",
       "    </tr>\n",
       "  </tbody>\n",
       "</table>\n",
       "</div>"
      ],
      "text/plain": [
       "         error abs\n",
       "count   680.000000\n",
       "mean    693.956573\n",
       "std     712.477372\n",
       "min       1.502875\n",
       "25%     242.194541\n",
       "50%     551.845512\n",
       "75%     919.307795\n",
       "max    7016.002666"
      ]
     },
     "execution_count": 136,
     "metadata": {},
     "output_type": "execute_result"
    }
   ],
   "source": [
    "yf = y_pfinal*10155+21859\n",
    "yt = y_cval*10155+21859\n",
    "xax = np.mean(abs(yf-yt))\n",
    "err =abs(yf-yt)\n",
    "error = pd.DataFrame(err,columns = ['error abs'])\n",
    "error.describe()"
   ]
  },
  {
   "cell_type": "code",
   "execution_count": 143,
   "metadata": {
    "collapsed": true
   },
   "outputs": [],
   "source": [
    "from sklearn.linear_model import Ridge\n",
    "from sklearn.preprocessing import PolynomialFeatures\n",
    "from sklearn.pipeline import make_pipeline"
   ]
  },
  {
   "cell_type": "code",
   "execution_count": 149,
   "metadata": {},
   "outputs": [
    {
     "name": "stdout",
     "output_type": "stream",
     "text": [
      "Best: -0.005298 using {'polynomialfeatures__degree': 2, 'ridge__alpha': 0.3}\n",
      "-0.005417 (0.002229) with: {'polynomialfeatures__degree': 2, 'ridge__alpha': 0.1}\n",
      "-0.005298 (0.002528) with: {'polynomialfeatures__degree': 2, 'ridge__alpha': 0.3}\n",
      "-0.005477 (0.003459) with: {'polynomialfeatures__degree': 2, 'ridge__alpha': 1}\n",
      "-0.007188 (0.005526) with: {'polynomialfeatures__degree': 2, 'ridge__alpha': 3}\n",
      "-0.030830 (0.014799) with: {'polynomialfeatures__degree': 3, 'ridge__alpha': 0.1}\n",
      "-0.030854 (0.014815) with: {'polynomialfeatures__degree': 3, 'ridge__alpha': 0.3}\n",
      "-0.030944 (0.014871) with: {'polynomialfeatures__degree': 3, 'ridge__alpha': 1}\n",
      "-0.031233 (0.015031) with: {'polynomialfeatures__degree': 3, 'ridge__alpha': 3}\n",
      "-0.074202 (0.030008) with: {'polynomialfeatures__degree': 4, 'ridge__alpha': 0.1}\n",
      "-0.074203 (0.030009) with: {'polynomialfeatures__degree': 4, 'ridge__alpha': 0.3}\n",
      "-0.074205 (0.030012) with: {'polynomialfeatures__degree': 4, 'ridge__alpha': 1}\n",
      "-0.074213 (0.030023) with: {'polynomialfeatures__degree': 4, 'ridge__alpha': 3}\n",
      "-0.131046 (0.041665) with: {'polynomialfeatures__degree': 5, 'ridge__alpha': 0.1}\n",
      "-0.131045 (0.041665) with: {'polynomialfeatures__degree': 5, 'ridge__alpha': 0.3}\n",
      "-0.131044 (0.041664) with: {'polynomialfeatures__degree': 5, 'ridge__alpha': 1}\n",
      "-0.131039 (0.041663) with: {'polynomialfeatures__degree': 5, 'ridge__alpha': 3}\n"
     ]
    }
   ],
   "source": [
    "# grid search for RIDGE, and introduce some polynomial features using sklearn pipeline\n",
    "model = make_pipeline(PolynomialFeatures(2), Ridge())\n",
    "param_grid = {'polynomialfeatures__degree':[2,3,4,5],\n",
    "    'ridge__alpha':[0.1,0.3,1,3]}\n",
    "grid_search = GridSearchCV(model,param_grid,scoring='neg_mean_squared_error',cv=5)\n",
    "grid_result = grid_search.fit(X_train,y_train)\n",
    "\n",
    "print(\"Best: %f using %s\" % (grid_result.best_score_, grid_result.best_params_))\n",
    "means = grid_result.cv_results_['mean_test_score']\n",
    "stds = grid_result.cv_results_['std_test_score']\n",
    "params = grid_result.cv_results_['params']\n",
    "for mean, stdev, param in zip(means, stds, params):\n",
    "\tprint(\"%f (%f) with: %r\" % (mean, stdev, param))"
   ]
  },
  {
   "cell_type": "code",
   "execution_count": 147,
   "metadata": {},
   "outputs": [
    {
     "data": {
      "text/plain": [
       "dict_keys(['steps', 'polynomialfeatures', 'ridge', 'polynomialfeatures__degree', 'polynomialfeatures__include_bias', 'polynomialfeatures__interaction_only', 'ridge__alpha', 'ridge__copy_X', 'ridge__fit_intercept', 'ridge__max_iter', 'ridge__normalize', 'ridge__random_state', 'ridge__solver', 'ridge__tol'])"
      ]
     },
     "execution_count": 147,
     "metadata": {},
     "output_type": "execute_result"
    }
   ],
   "source": [
    "model.get_params().keys() #to check the available parameters in param_grid"
   ]
  },
  {
   "cell_type": "code",
   "execution_count": 158,
   "metadata": {},
   "outputs": [
    {
     "name": "stdout",
     "output_type": "stream",
     "text": [
      "Best: -0.028120 using {'polynomialfeatures__degree': 2, 'xgbregressor__max_depth': 3, 'xgbregressor__n_estimators': 1000, 'xgbregressor__reg_lambda': 3}\n",
      "-0.029190 (0.019506) with: {'polynomialfeatures__degree': 2, 'xgbregressor__max_depth': 3, 'xgbregressor__n_estimators': 1000, 'xgbregressor__reg_lambda': 0.1}\n",
      "-0.028418 (0.020150) with: {'polynomialfeatures__degree': 2, 'xgbregressor__max_depth': 3, 'xgbregressor__n_estimators': 1000, 'xgbregressor__reg_lambda': 0.3}\n",
      "-0.029871 (0.021585) with: {'polynomialfeatures__degree': 2, 'xgbregressor__max_depth': 3, 'xgbregressor__n_estimators': 1000, 'xgbregressor__reg_lambda': 1}\n",
      "-0.028120 (0.015580) with: {'polynomialfeatures__degree': 2, 'xgbregressor__max_depth': 3, 'xgbregressor__n_estimators': 1000, 'xgbregressor__reg_lambda': 3}\n"
     ]
    }
   ],
   "source": [
    "#what if combine xgboost with polynomialfeatures? ----> even better ! (SEEMS OVER FITTING WHEN USE IT AGAIN)\n",
    "model = make_pipeline(PolynomialFeatures(), XGBRegressor())\n",
    "param_grid = {'polynomialfeatures__degree':[2],\n",
    "              'xgbregressor__max_depth':[3],\n",
    "              'xgbregressor__n_estimators':[1000],\n",
    "              'xgbregressor__reg_lambda':[0.1,0.3,1,3]}\n",
    "grid_search = GridSearchCV(model,param_grid,scoring='neg_mean_squared_error',cv=10)\n",
    "grid_result = grid_search.fit(X_train,y_train)\n",
    "\n",
    "print(\"Best: %f using %s\" % (grid_result.best_score_, grid_result.best_params_))\n",
    "means = grid_result.cv_results_['mean_test_score']\n",
    "stds = grid_result.cv_results_['std_test_score']\n",
    "params = grid_result.cv_results_['params']\n",
    "for mean, stdev, param in zip(means, stds, params):\n",
    "\tprint(\"%f (%f) with: %r\" % (mean, stdev, param))"
   ]
  },
  {
   "cell_type": "code",
   "execution_count": 152,
   "metadata": {},
   "outputs": [
    {
     "data": {
      "text/plain": [
       "dict_keys(['steps', 'polynomialfeatures', 'xgbregressor', 'polynomialfeatures__degree', 'polynomialfeatures__include_bias', 'polynomialfeatures__interaction_only', 'xgbregressor__base_score', 'xgbregressor__colsample_bylevel', 'xgbregressor__colsample_bytree', 'xgbregressor__gamma', 'xgbregressor__learning_rate', 'xgbregressor__max_delta_step', 'xgbregressor__max_depth', 'xgbregressor__min_child_weight', 'xgbregressor__missing', 'xgbregressor__n_estimators', 'xgbregressor__nthread', 'xgbregressor__objective', 'xgbregressor__reg_alpha', 'xgbregressor__reg_lambda', 'xgbregressor__scale_pos_weight', 'xgbregressor__seed', 'xgbregressor__silent', 'xgbregressor__subsample'])"
      ]
     },
     "execution_count": 152,
     "metadata": {},
     "output_type": "execute_result"
    }
   ],
   "source": [
    "model.get_params().keys()"
   ]
  },
  {
   "cell_type": "code",
   "execution_count": null,
   "metadata": {
    "collapsed": true
   },
   "outputs": [],
   "source": []
  }
 ],
 "metadata": {
  "kernelspec": {
   "display_name": "Python 3",
   "language": "python",
   "name": "python3"
  },
  "language_info": {
   "codemirror_mode": {
    "name": "ipython",
    "version": 3
   },
   "file_extension": ".py",
   "mimetype": "text/x-python",
   "name": "python",
   "nbconvert_exporter": "python",
   "pygments_lexer": "ipython3",
   "version": "3.6.1"
  }
 },
 "nbformat": 4,
 "nbformat_minor": 2
}
